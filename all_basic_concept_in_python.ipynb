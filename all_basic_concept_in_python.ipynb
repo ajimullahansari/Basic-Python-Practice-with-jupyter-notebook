{
 "cells": [
  {
   "cell_type": "markdown",
   "id": "07d4849d",
   "metadata": {},
   "source": [
    "All Python Related Practice and Implementation"
   ]
  },
  {
   "cell_type": "markdown",
   "id": "09bdd725",
   "metadata": {},
   "source": [
    "Variables:> is a symbolic name that references or point to an object in a memory."
   ]
  },
  {
   "cell_type": "code",
   "execution_count": 1,
   "id": "bc9246d3",
   "metadata": {},
   "outputs": [
    {
     "name": "stdout",
     "output_type": "stream",
     "text": [
      "heloo world\n"
     ]
    }
   ],
   "source": [
    "print(\"heloo world\")"
   ]
  },
  {
   "cell_type": "code",
   "execution_count": 1,
   "id": "e04fcfaa",
   "metadata": {},
   "outputs": [],
   "source": [
    "age=24"
   ]
  },
  {
   "cell_type": "code",
   "execution_count": 4,
   "id": "8f312f99",
   "metadata": {},
   "outputs": [
    {
     "name": "stdout",
     "output_type": "stream",
     "text": [
      "my age is: 24\n",
      "<class 'int'>\n"
     ]
    }
   ],
   "source": [
    "print(\"my age is:\",age)\n",
    "print(type(age))"
   ]
  },
  {
   "cell_type": "code",
   "execution_count": null,
   "id": "86a80d41",
   "metadata": {},
   "outputs": [],
   "source": [
    "name=\"Ajimullah Ansari\""
   ]
  },
  {
   "cell_type": "code",
   "execution_count": 6,
   "id": "ca0b0ae1",
   "metadata": {},
   "outputs": [
    {
     "name": "stdout",
     "output_type": "stream",
     "text": [
      "My name is : Ajimullah Ansari\n"
     ]
    }
   ],
   "source": [
    "print(\"My name is :\",name)"
   ]
  },
  {
   "cell_type": "code",
   "execution_count": 7,
   "id": "e6a61457",
   "metadata": {},
   "outputs": [],
   "source": [
    "is_student=True"
   ]
  },
  {
   "cell_type": "code",
   "execution_count": 11,
   "id": "47a0599a",
   "metadata": {},
   "outputs": [
    {
     "name": "stdout",
     "output_type": "stream",
     "text": [
      "Am I a student? : True\n"
     ]
    }
   ],
   "source": [
    "print(\"Am I a student? :\",is_student)"
   ]
  },
  {
   "cell_type": "code",
   "execution_count": 14,
   "id": "e656fa15",
   "metadata": {},
   "outputs": [],
   "source": [
    "height=5.8"
   ]
  },
  {
   "cell_type": "code",
   "execution_count": 16,
   "id": "56d812f4",
   "metadata": {},
   "outputs": [
    {
     "name": "stdout",
     "output_type": "stream",
     "text": [
      "My height is : 5.8 feet\n"
     ]
    }
   ],
   "source": [
    "print(\"My height is :\",height,\"feet\")"
   ]
  },
  {
   "cell_type": "code",
   "execution_count": 17,
   "id": "1ef06cde",
   "metadata": {},
   "outputs": [],
   "source": [
    "is_student=True\n",
    "is_animals=False\n",
    "is_birds=False"
   ]
  },
  {
   "cell_type": "code",
   "execution_count": 18,
   "id": "e8acf966",
   "metadata": {},
   "outputs": [
    {
     "name": "stdout",
     "output_type": "stream",
     "text": [
      "My name is : Ajimullah Ansari True\n"
     ]
    }
   ],
   "source": [
    "print(\"My name is :\",name,is_student)"
   ]
  },
  {
   "cell_type": "code",
   "execution_count": 19,
   "id": "43f6bee6",
   "metadata": {},
   "outputs": [
    {
     "name": "stdout",
     "output_type": "stream",
     "text": [
      "My name is : Ajimullah Ansari and I am a student: False and I am a bird: False\n"
     ]
    }
   ],
   "source": [
    "print(\"My name is : {name} and I am a student: {is_animals} and I am a bird: {is_birds}\".format(name=name, is_animals=is_animals, is_birds=is_birds))"
   ]
  },
  {
   "cell_type": "code",
   "execution_count": 20,
   "id": "c59aa86b",
   "metadata": {},
   "outputs": [
    {
     "name": "stdout",
     "output_type": "stream",
     "text": [
      "The sum of a and b is : 30\n"
     ]
    }
   ],
   "source": [
    "a=10\n",
    "b=20\n",
    "sum=a+b\n",
    "print(\"The sum of a and b is :\",sum)"
   ]
  },
  {
   "cell_type": "code",
   "execution_count": 21,
   "id": "c7c5e810",
   "metadata": {},
   "outputs": [
    {
     "name": "stdout",
     "output_type": "stream",
     "text": [
      "The lenghth of the status is : 14\n"
     ]
    }
   ],
   "source": [
    "status=\"B.tech Student\"\n",
    "print(\"The lenghth of the status is :\",len(status))"
   ]
  },
  {
   "cell_type": "code",
   "execution_count": 24,
   "id": "3b222030",
   "metadata": {},
   "outputs": [
    {
     "name": "stdout",
     "output_type": "stream",
     "text": [
      "<class 'float'>\n"
     ]
    }
   ],
   "source": [
    "temperature=30.5\n",
    "print(type(temperature))"
   ]
  },
  {
   "cell_type": "code",
   "execution_count": null,
   "id": "2ea7c951",
   "metadata": {},
   "outputs": [
    {
     "name": "stdout",
     "output_type": "stream",
     "text": [
      "the total price is : 590.0\n"
     ]
    }
   ],
   "source": [
    "price=500\n",
    "gst=0.18\n",
    "print(\"the total price is :\",price+price*0.18)"
   ]
  },
  {
   "cell_type": "code",
   "execution_count": 32,
   "id": "e25a9c73",
   "metadata": {},
   "outputs": [
    {
     "name": "stdout",
     "output_type": "stream",
     "text": [
      "PYHTON IS FUN!\n",
      "pyhton is fun!\n"
     ]
    }
   ],
   "source": [
    "message=\"Pyhton is fun!\"\n",
    "print(message.upper())\n",
    "print(message.lower())"
   ]
  },
  {
   "cell_type": "code",
   "execution_count": 37,
   "id": "64afa795",
   "metadata": {},
   "outputs": [
    {
     "name": "stdout",
     "output_type": "stream",
     "text": [
      "hello python developer\n"
     ]
    }
   ],
   "source": [
    "msg=\"HELLO PYTHON DEVELOPER\"\n",
    "print(msg.lower())\n"
   ]
  },
  {
   "cell_type": "markdown",
   "id": "53b11485",
   "metadata": {},
   "source": [
    "## Types of variables"
   ]
  },
  {
   "cell_type": "markdown",
   "id": "6562a3aa",
   "metadata": {},
   "source": [
    "1 integers"
   ]
  },
  {
   "cell_type": "code",
   "execution_count": 98,
   "id": "4d6da826",
   "metadata": {},
   "outputs": [
    {
     "name": "stdout",
     "output_type": "stream",
     "text": [
      "<class 'int'>\n"
     ]
    }
   ],
   "source": [
    "age=25\n",
    "print(type(age))"
   ]
  },
  {
   "cell_type": "markdown",
   "id": "d023af33",
   "metadata": {},
   "source": [
    "2 float"
   ]
  },
  {
   "cell_type": "code",
   "execution_count": 99,
   "id": "50428fcd",
   "metadata": {},
   "outputs": [
    {
     "name": "stdout",
     "output_type": "stream",
     "text": [
      "<class 'float'>\n"
     ]
    }
   ],
   "source": [
    "lenght=33.9\n",
    "print(type(lenght))"
   ]
  },
  {
   "cell_type": "markdown",
   "id": "c584df54",
   "metadata": {},
   "source": [
    "3 String"
   ]
  },
  {
   "cell_type": "code",
   "execution_count": 100,
   "id": "07b03a61",
   "metadata": {},
   "outputs": [
    {
     "name": "stdout",
     "output_type": "stream",
     "text": [
      "<class 'str'>\n"
     ]
    }
   ],
   "source": [
    "name=\"John\"\n",
    "print(type(name))"
   ]
  },
  {
   "cell_type": "markdown",
   "id": "af4e0e35",
   "metadata": {},
   "source": [
    "4 Boolean"
   ]
  },
  {
   "cell_type": "code",
   "execution_count": 101,
   "id": "71d17875",
   "metadata": {},
   "outputs": [
    {
     "name": "stdout",
     "output_type": "stream",
     "text": [
      "<class 'bool'>\n"
     ]
    }
   ],
   "source": [
    "is_student=True\n",
    "print(type(is_student))"
   ]
  },
  {
   "cell_type": "markdown",
   "id": "f1ed2d9c",
   "metadata": {},
   "source": [
    "5 List"
   ]
  },
  {
   "cell_type": "code",
   "execution_count": 102,
   "id": "2595031a",
   "metadata": {},
   "outputs": [
    {
     "name": "stdout",
     "output_type": "stream",
     "text": [
      "<class 'list'>\n"
     ]
    }
   ],
   "source": [
    "numbers=[1, 2, 3, 4, 5]\n",
    "print(type(numbers))"
   ]
  },
  {
   "cell_type": "code",
   "execution_count": 103,
   "id": "0b3a6670",
   "metadata": {},
   "outputs": [
    {
     "name": "stdout",
     "output_type": "stream",
     "text": [
      "<class 'list'>\n"
     ]
    }
   ],
   "source": [
    "no_of_students=[\"Ajimullah\", \"Amit\", \"Ankit\", \"Aman\"\n",
    "]\n",
    "print(type(no_of_students))"
   ]
  },
  {
   "cell_type": "markdown",
   "id": "2a69d07e",
   "metadata": {},
   "source": [
    "6 Tupple"
   ]
  },
  {
   "cell_type": "code",
   "execution_count": 104,
   "id": "56c960df",
   "metadata": {},
   "outputs": [
    {
     "name": "stdout",
     "output_type": "stream",
     "text": [
      "<class 'tuple'>\n"
     ]
    }
   ],
   "source": [
    "prices=(100,300,400,600,800)\n",
    "print(type(prices))"
   ]
  },
  {
   "cell_type": "markdown",
   "id": "d319ba2a",
   "metadata": {},
   "source": [
    "7.Dictionary"
   ]
  },
  {
   "cell_type": "code",
   "execution_count": 105,
   "id": "f1dcb58c",
   "metadata": {},
   "outputs": [
    {
     "name": "stdout",
     "output_type": "stream",
     "text": [
      "<class 'dict'>\n"
     ]
    }
   ],
   "source": [
    "person={\"name\": \"Ajimullah\", \"age\": 24, \"is_student\": True}\n",
    "print(type(person))"
   ]
  },
  {
   "cell_type": "markdown",
   "id": "1810fbd2",
   "metadata": {},
   "source": [
    "8.Set"
   ]
  },
  {
   "cell_type": "code",
   "execution_count": 106,
   "id": "a541afa7",
   "metadata": {},
   "outputs": [
    {
     "name": "stdout",
     "output_type": "stream",
     "text": [
      "<class 'set'>\n"
     ]
    }
   ],
   "source": [
    "fruits={\"apple\",\"banana\",\"cherry\",\"orange\",\"kiwi\",\"melon\",\"mango\"}\n",
    "print(type(fruits))"
   ]
  },
  {
   "cell_type": "markdown",
   "id": "68feefe5",
   "metadata": {},
   "source": [
    "9.None"
   ]
  },
  {
   "cell_type": "code",
   "execution_count": 107,
   "id": "d0ae0704",
   "metadata": {},
   "outputs": [
    {
     "name": "stdout",
     "output_type": "stream",
     "text": [
      "<class 'NoneType'>\n"
     ]
    }
   ],
   "source": [
    "result=None\n",
    "print(type(result))"
   ]
  },
  {
   "cell_type": "markdown",
   "id": "637282da",
   "metadata": {},
   "source": [
    "10.Complex"
   ]
  },
  {
   "cell_type": "code",
   "execution_count": 108,
   "id": "91c36d33",
   "metadata": {},
   "outputs": [
    {
     "name": "stdout",
     "output_type": "stream",
     "text": [
      "<class 'complex'>\n"
     ]
    }
   ],
   "source": [
    "complex_number=2+5j\n",
    "print(type(complex_number))"
   ]
  },
  {
   "cell_type": "markdown",
   "id": "cb5a55f8",
   "metadata": {},
   "source": [
    "Type Casting"
   ]
  },
  {
   "cell_type": "code",
   "execution_count": 109,
   "id": "5909a4be",
   "metadata": {},
   "outputs": [
    {
     "name": "stdout",
     "output_type": "stream",
     "text": [
      "25.0\n"
     ]
    }
   ],
   "source": [
    "age=25\n",
    "print(float(age))"
   ]
  },
  {
   "cell_type": "code",
   "execution_count": 110,
   "id": "f4982eaa",
   "metadata": {},
   "outputs": [
    {
     "name": "stdout",
     "output_type": "stream",
     "text": [
      "25\n"
     ]
    }
   ],
   "source": [
    "age=25.5\n",
    "print(int(age))"
   ]
  },
  {
   "cell_type": "code",
   "execution_count": 111,
   "id": "200ab245",
   "metadata": {},
   "outputs": [
    {
     "name": "stdout",
     "output_type": "stream",
     "text": [
      "123\n"
     ]
    }
   ],
   "source": [
    "string_value=\"123\"\n",
    "print(int(string_value))"
   ]
  },
  {
   "cell_type": "code",
   "execution_count": 112,
   "id": "4454d429",
   "metadata": {},
   "outputs": [
    {
     "name": "stdout",
     "output_type": "stream",
     "text": [
      "3.14\n"
     ]
    }
   ],
   "source": [
    "value=\"3.14\"\n",
    "print(float(value))"
   ]
  },
  {
   "cell_type": "code",
   "execution_count": 113,
   "id": "3e52f470",
   "metadata": {},
   "outputs": [
    {
     "name": "stdout",
     "output_type": "stream",
     "text": [
      "99\n"
     ]
    }
   ],
   "source": [
    "abs_value=99.99\n",
    "print(int(abs_value))"
   ]
  },
  {
   "cell_type": "markdown",
   "id": "e2800049",
   "metadata": {},
   "source": [
    "Q1. You have the string \"25\" stored in variable a. Convert it to an integer and add 10 to it. Print the result."
   ]
  },
  {
   "cell_type": "code",
   "execution_count": 114,
   "id": "c58887bd",
   "metadata": {},
   "outputs": [
    {
     "name": "stdout",
     "output_type": "stream",
     "text": [
      "35\n"
     ]
    }
   ],
   "source": [
    "value=\"25\"\n",
    "print(int(value)+10)"
   ]
  },
  {
   "cell_type": "markdown",
   "id": "aebda532",
   "metadata": {},
   "source": [
    "Q2. Convert this list of strings to integers:\n",
    "numbers = [\"1\", \"2\", \"3\", \"4\"]\n",
    "Store the result in a new list and print it."
   ]
  },
  {
   "cell_type": "code",
   "execution_count": 115,
   "id": "e678c815",
   "metadata": {},
   "outputs": [
    {
     "name": "stdout",
     "output_type": "stream",
     "text": [
      "1 2 3 4\n"
     ]
    }
   ],
   "source": [
    "numbers=[\"1\",\"2\",\"3\",\"4\"]\n",
    "print(int(numbers[0]),int(numbers[1]),int(numbers[2]),int(numbers[3]))"
   ]
  },
  {
   "cell_type": "markdown",
   "id": "4dfce36b",
   "metadata": {},
   "source": [
    " Q3.Convert boolean values to integers and floats. What will be the result of:"
   ]
  },
  {
   "cell_type": "code",
   "execution_count": 116,
   "id": "7a764f02",
   "metadata": {},
   "outputs": [
    {
     "name": "stdout",
     "output_type": "stream",
     "text": [
      "1 1.0\n"
     ]
    }
   ],
   "source": [
    "is_boolean=True\n",
    "print(int(is_boolean), float(is_boolean))"
   ]
  },
  {
   "cell_type": "code",
   "execution_count": 117,
   "id": "5449ab48",
   "metadata": {},
   "outputs": [
    {
     "name": "stdout",
     "output_type": "stream",
     "text": [
      "8.5\n"
     ]
    }
   ],
   "source": [
    "x=5\n",
    "y=\"3.5\"\n",
    "z=float(y)\n",
    "print(x+z)"
   ]
  },
  {
   "cell_type": "markdown",
   "id": "3956fa0a",
   "metadata": {},
   "source": [
    "Q3. You have a string value = \"abc123\". Try to convert it to an integer. What error occurs? How can you handle it?"
   ]
  },
  {
   "cell_type": "code",
   "execution_count": 118,
   "id": "c26fcdca",
   "metadata": {},
   "outputs": [
    {
     "name": "stdout",
     "output_type": "stream",
     "text": [
      "Error: Cannot convert string to integer\n"
     ]
    }
   ],
   "source": [
    "value=\"abc123\"\n",
    "try:\n",
    "    num_value=int(value)\n",
    "    print(\"Converted value:\",num_value)\n",
    "except ValueError:\n",
    "        print(\"Error: Cannot convert string to integer\")"
   ]
  },
  {
   "cell_type": "markdown",
   "id": "79dd5ee5",
   "metadata": {},
   "source": [
    "Because of non numeric character that donot convert like this ok"
   ]
  },
  {
   "cell_type": "markdown",
   "id": "6595ab6a",
   "metadata": {},
   "source": [
    "Q5.Write a program that converts only the valid numbers to integers and skips the non-numeric values\n",
    "data = [\"10\", \"twenty\", \"30\", \"40\"]\n"
   ]
  },
  {
   "cell_type": "code",
   "execution_count": 119,
   "id": "ea49695b",
   "metadata": {},
   "outputs": [
    {
     "name": "stdout",
     "output_type": "stream",
     "text": [
      "Converted List [10]\n",
      "Converted List [10]\n",
      "Converted List [10, 30]\n",
      "Converted List [10, 30, 40]\n"
     ]
    }
   ],
   "source": [
    "data=[\"10\", \"twenty\", \"30\", \"40\"]\n",
    "converted = []\n",
    "for item in data:\n",
    "    try:\n",
    "        num=int(item)\n",
    "        converted.append(num)\n",
    "    except ValueError:\n",
    "        pass\n",
    "    print(\"Converted List\",converted)"
   ]
  },
  {
   "cell_type": "markdown",
   "id": "1137e58e",
   "metadata": {},
   "source": [
    "Data Structure in Python"
   ]
  },
  {
   "cell_type": "markdown",
   "id": "e71bc964",
   "metadata": {},
   "source": [
    "Stack->Last item added is first one to be removed [Lifo]."
   ]
  },
  {
   "cell_type": "markdown",
   "id": "888d4b41",
   "metadata": {},
   "source": [
    "Heap-> follow the first in first out [fifo]."
   ]
  },
  {
   "cell_type": "markdown",
   "id": "3febee71",
   "metadata": {},
   "source": [
    "Tree-> It is hierarchical data structure that consists of nodes,where each nodes has at most two children,referred to as the left child and the right child."
   ]
  },
  {
   "cell_type": "markdown",
   "id": "eb26ef79",
   "metadata": {},
   "source": [
    "Linked List-> Linked list are helpful when you need dynamic storage that can grow or shrink easily.\n",
    "this can be modify."
   ]
  },
  {
   "cell_type": "markdown",
   "id": "69b9c695",
   "metadata": {},
   "source": [
    "Doubly Linked List-> A doubly linked list is similar to a linked list,but each node has a reference to both the next and previous node."
   ]
  },
  {
   "cell_type": "markdown",
   "id": "c931fcc5",
   "metadata": {},
   "source": [
    "Graph-> A graph is a collection of nodes(vertices) and edges that connect pair of nodes.Graph are widely used to represent network or relationship bt object."
   ]
  },
  {
   "cell_type": "markdown",
   "id": "7790ac89",
   "metadata": {},
   "source": [
    "Sequence in Python"
   ]
  },
  {
   "cell_type": "markdown",
   "id": "5a18cd7c",
   "metadata": {},
   "source": [
    "A sequence in python refers to an ordered collection of items, wherre each item can be accessed by its position(index) in the sequence."
   ]
  },
  {
   "cell_type": "markdown",
   "id": "b267ca3d",
   "metadata": {},
   "source": [
    "1.Lenght of a sequence "
   ]
  },
  {
   "cell_type": "code",
   "execution_count": 120,
   "id": "142a8127",
   "metadata": {},
   "outputs": [
    {
     "name": "stdout",
     "output_type": "stream",
     "text": [
      "The length of my_list is: 5\n"
     ]
    }
   ],
   "source": [
    "my_list=[1,2,3,4,5]\n",
    "print(\"The length of my_list is:\", len(my_list))"
   ]
  },
  {
   "cell_type": "markdown",
   "id": "9554036f",
   "metadata": {},
   "source": [
    "always start with 1 remember it plz."
   ]
  },
  {
   "cell_type": "markdown",
   "id": "ca4ceb81",
   "metadata": {},
   "source": [
    "2.Membership Test"
   ]
  },
  {
   "cell_type": "markdown",
   "id": "cc8001bb",
   "metadata": {},
   "source": [
    "You can check if an element is present in a sequence using the in and not in operations."
   ]
  },
  {
   "cell_type": "code",
   "execution_count": 121,
   "id": "a87264ce",
   "metadata": {},
   "outputs": [
    {
     "name": "stdout",
     "output_type": "stream",
     "text": [
      "True\n",
      "False\n"
     ]
    }
   ],
   "source": [
    "fruits=[\"apple\", \"banana\", \"cherry\"]\n",
    "print(\"apple\" in fruits)\n",
    "print(\"mango\" in fruits)\n"
   ]
  },
  {
   "cell_type": "markdown",
   "id": "7694f8a5",
   "metadata": {},
   "source": [
    "3.Cocatenation"
   ]
  },
  {
   "cell_type": "code",
   "execution_count": 122,
   "id": "0e753536",
   "metadata": {},
   "outputs": [
    {
     "name": "stdout",
     "output_type": "stream",
     "text": [
      "Combined List: [1, 2, 3, 4, 5, 6]\n"
     ]
    }
   ],
   "source": [
    "list1=[1, 2, 3]\n",
    "list2=[4, 5, 6]\n",
    "combined_list=list1 + list2\n",
    "print(\"Combined List:\", combined_list)"
   ]
  },
  {
   "cell_type": "code",
   "execution_count": 123,
   "id": "530f4699",
   "metadata": {},
   "outputs": [
    {
     "name": "stdout",
     "output_type": "stream",
     "text": [
      "the double of list1 is: [1, 2, 3, 1, 2, 3]\n"
     ]
    }
   ],
   "source": [
    "list1=[1, 2, 3]\n",
    "print(\"the double of list1 is:\", list1*2)"
   ]
  },
  {
   "cell_type": "markdown",
   "id": "b7d8c7a6",
   "metadata": {},
   "source": [
    "Indexing"
   ]
  },
  {
   "cell_type": "markdown",
   "id": "d6411093",
   "metadata": {},
   "source": [
    "Type of Sequence that Support indexing.\n",
    "Strings: A sequence of character.\n",
    "List: Asequence of item that can be any type.\n",
    "Tupple: A sequence of immutable item.\n",
    "example....int,float,bool,tupple etc"
   ]
  },
  {
   "cell_type": "markdown",
   "id": "cc661734",
   "metadata": {},
   "source": [
    "Array: A collection of simillar data type.\n",
    "example:> 1d, 2d, 3d etc "
   ]
  },
  {
   "cell_type": "code",
   "execution_count": 124,
   "id": "dcf82552",
   "metadata": {},
   "outputs": [
    {
     "name": "stdout",
     "output_type": "stream",
     "text": [
      "1\n",
      "6\n",
      "8\n",
      "3\n"
     ]
    }
   ],
   "source": [
    "matrix=[[1,2,3],[4,5,6],[7,8,9]]\n",
    "print(matrix[0][0])  # Accessing the first element of the first row\n",
    "print(matrix[1][2])  # Accessing the third element of the second row\n",
    "print(matrix[2][1])  # Accessing the second element of the third row\n",
    "print(matrix[0][2])  # Accessing the third element of the first row"
   ]
  },
  {
   "cell_type": "markdown",
   "id": "02c0b135",
   "metadata": {},
   "source": [
    "Slicing\n"
   ]
  },
  {
   "cell_type": "code",
   "execution_count": 125,
   "id": "31bef81a",
   "metadata": {},
   "outputs": [
    {
     "name": "stdout",
     "output_type": "stream",
     "text": [
      "Hello, World!\n"
     ]
    }
   ],
   "source": [
    "my_strings=\"Hello, World!\"\n",
    "print(my_strings[:])  # Slicing from index 0 to 4"
   ]
  },
  {
   "cell_type": "code",
   "execution_count": 127,
   "id": "d195cdd8",
   "metadata": {},
   "outputs": [
    {
     "name": "stdout",
     "output_type": "stream",
     "text": [
      "Hello, World!\n",
      "13\n",
      "Hello, World\n",
      "!\n"
     ]
    }
   ],
   "source": [
    "my_strings=\"Hello, World!\"\n",
    "print(my_strings[:])  # Slicing from index 0 to 4\n",
    "print(len(my_strings))\n",
    "print(my_strings[:-1])\n",
    "print(my_strings[-1:])  # Slicing from index 0 to 4"
   ]
  },
  {
   "cell_type": "markdown",
   "id": "06fe3241",
   "metadata": {},
   "source": [
    "important...>>>Sequence[start:stop:step] that is the important things."
   ]
  },
  {
   "cell_type": "code",
   "execution_count": 128,
   "id": "ef6f992f",
   "metadata": {},
   "outputs": [
    {
     "name": "stdout",
     "output_type": "stream",
     "text": [
      "Pto sfnfrai!\n"
     ]
    }
   ],
   "source": [
    "my_data=\"Python is fun for ajim!\"\n",
    "print(my_data[::2])"
   ]
  },
  {
   "cell_type": "code",
   "execution_count": 141,
   "id": "61da1907",
   "metadata": {},
   "outputs": [
    {
     "name": "stdout",
     "output_type": "stream",
     "text": [
      "[1, 3, 4, 55, 90]\n",
      "[2, 10, 5, 66]\n"
     ]
    }
   ],
   "source": [
    "my_list=[1,2,3,10,4,5,55,66,90]\n",
    "print(my_list[0:66:2])  # Slicing the list to get every second element\n",
    "print(my_list[1::2])  # Slicing the list to get elements"
   ]
  },
  {
   "cell_type": "code",
   "execution_count": 142,
   "id": "a0fdbef8",
   "metadata": {},
   "outputs": [
    {
     "name": "stdout",
     "output_type": "stream",
     "text": [
      "[1, 2, 3, 4, 5, 6, 7, 8, 9]\n"
     ]
    }
   ],
   "source": [
    "my_list1=[1,2,3,4,5,6,7,8,9,10]\n",
    "print(my_list1[0:9:1])  # Slicing the list to get the first three elements"
   ]
  },
  {
   "cell_type": "markdown",
   "id": "a6e43bc3",
   "metadata": {},
   "source": [
    "list are mutable right."
   ]
  },
  {
   "cell_type": "code",
   "execution_count": 147,
   "id": "b8bcc0b3",
   "metadata": {},
   "outputs": [
    {
     "name": "stdout",
     "output_type": "stream",
     "text": [
      "list3 is mutable, we can change its elements. False ['Ajimullah', 'Amit', 'Ankit', 'Aman', 'Ajimullah']\n"
     ]
    }
   ],
   "source": [
    "list3=[\"Ajimullah\", \"Amit\", \"Ankit\", \"Aman\",\"Ajimullah\"]\n",
    "print(\"list3 is mutable, we can change its elements.\",list3[4]==\"Manit\",list3)"
   ]
  },
  {
   "cell_type": "code",
   "execution_count": 149,
   "id": "f1d93446",
   "metadata": {},
   "outputs": [
    {
     "name": "stdout",
     "output_type": "stream",
     "text": [
      "['Ajimullah', 'Amit', 'Ankit', 'Aman', 'Manit']\n"
     ]
    }
   ],
   "source": [
    "list3=[\"Ajimullah\", \"Amit\", \"Ankit\", \"Aman\",\"Ajimullah\"]\n",
    "list3[4]=\"Manit\"\n",
    "print(list3)"
   ]
  },
  {
   "cell_type": "markdown",
   "id": "d9b416ce",
   "metadata": {},
   "source": [
    "Range Function to make list"
   ]
  },
  {
   "cell_type": "code",
   "execution_count": 151,
   "id": "a65e1287",
   "metadata": {},
   "outputs": [
    {
     "name": "stdout",
     "output_type": "stream",
     "text": [
      "[1, 2, 3, 4, 5, 6, 7, 8, 9, 10]\n",
      "<class 'range'>\n"
     ]
    }
   ],
   "source": [
    "list4=range(1, 11)\n",
    "print(list(list4))  # Convert range object to list and print it\n",
    "print(type(list4))  # Check the type of list4"
   ]
  },
  {
   "cell_type": "code",
   "execution_count": 152,
   "id": "e7a4ddaa",
   "metadata": {},
   "outputs": [
    {
     "name": "stdout",
     "output_type": "stream",
     "text": [
      "[1, 3, 5, 7, 9, 11, 13, 15, 17, 19, 21, 23, 25, 27, 29, 31, 33, 35, 37, 39, 41, 43, 45, 47, 49, 51, 53, 55, 57, 59, 61, 63, 65, 67, 69, 71, 73, 75, 77, 79, 81, 83, 85, 87, 89, 91, 93, 95, 97, 99, 101, 103, 105, 107, 109]\n",
      "<class 'range'>\n"
     ]
    }
   ],
   "source": [
    "list4=range(1, 110, 2)\n",
    "print(list(list4))  # Convert range object to list and print it\n",
    "print(type(list4))  "
   ]
  },
  {
   "cell_type": "markdown",
   "id": "28b47116",
   "metadata": {},
   "source": [
    "Control Flow Statement"
   ]
  },
  {
   "cell_type": "markdown",
   "id": "afc77624",
   "metadata": {},
   "source": [
    "1.if,elif,else......conditional statement\n",
    "2.for and while loops(iterative element)\n",
    "3.break, continue and pass statement\n",
    "4.try,except,finally statement(exceptional handling)"
   ]
  },
  {
   "cell_type": "code",
   "execution_count": 154,
   "id": "e6a85e9a",
   "metadata": {},
   "outputs": [
    {
     "name": "stdout",
     "output_type": "stream",
     "text": [
      "You are a minor.\n"
     ]
    }
   ],
   "source": [
    "age=24\n",
    "if age > 18:\n",
    "    print(\"You are a minor.\")"
   ]
  },
  {
   "cell_type": "code",
   "execution_count": 159,
   "id": "a918ae3c",
   "metadata": {},
   "outputs": [
    {
     "name": "stdout",
     "output_type": "stream",
     "text": [
      "You are an adult.\n"
     ]
    }
   ],
   "source": [
    "age=24\n",
    "if age <= 18:\n",
    "    print(\"You are a minor.\")\n",
    "else:\n",
    "         print(\"You are an adult.\")"
   ]
  },
  {
   "cell_type": "code",
   "execution_count": 160,
   "id": "c8bdc267",
   "metadata": {},
   "outputs": [
    {
     "name": "stdout",
     "output_type": "stream",
     "text": [
      "You are a young adult.\n"
     ]
    }
   ],
   "source": [
    "age=24\n",
    "if age <= 18:\n",
    "    print(\"You are a minor.\")\n",
    "elif age>18 and age <50:\n",
    "    print(\"You are a young adult.\")\n",
    "else:\n",
    "    print(\"You are an adult.\")"
   ]
  },
  {
   "cell_type": "markdown",
   "id": "5e6c51e1",
   "metadata": {},
   "source": [
    "If ,else ,elif with logical operators. "
   ]
  },
  {
   "cell_type": "markdown",
   "id": "c890e09a",
   "metadata": {},
   "source": [
    "Example with not"
   ]
  },
  {
   "cell_type": "code",
   "execution_count": 162,
   "id": "3f28f60f",
   "metadata": {},
   "outputs": [
    {
     "name": "stdout",
     "output_type": "stream",
     "text": [
      "You should take an umbrella with you.\n"
     ]
    }
   ],
   "source": [
    "is_raining=True\n",
    "if not is_raining:\n",
    "    print(\"You can go outside without an umbrella.\")\n",
    "else:\n",
    "    print(\"You should take an umbrella with you.\")"
   ]
  },
  {
   "cell_type": "markdown",
   "id": "6d8ab899",
   "metadata": {},
   "source": [
    "Loop in Python."
   ]
  },
  {
   "cell_type": "markdown",
   "id": "e2113dc8",
   "metadata": {},
   "source": [
    " 1. Print all even numbers from 1 to 20."
   ]
  },
  {
   "cell_type": "code",
   "execution_count": 163,
   "id": "7fa30b02",
   "metadata": {},
   "outputs": [
    {
     "name": "stdout",
     "output_type": "stream",
     "text": [
      "2\n",
      "4\n",
      "6\n",
      "8\n",
      "10\n",
      "12\n",
      "14\n",
      "16\n",
      "18\n",
      "20\n"
     ]
    }
   ],
   "source": [
    "for i in range(1, 21):\n",
    "    if i % 2==0:\n",
    "        print(i)"
   ]
  },
  {
   "cell_type": "markdown",
   "id": "bb5f2f72",
   "metadata": {},
   "source": [
    "2. Loop through a string and count vowels"
   ]
  },
  {
   "cell_type": "code",
   "execution_count": 168,
   "id": "74d06ba0",
   "metadata": {},
   "outputs": [
    {
     "name": "stdout",
     "output_type": "stream",
     "text": [
      "Total no of vowels in the text: 1\n",
      "Total no of vowels in the text: 2\n",
      "Total no of vowels in the text: 3\n",
      "Total no of vowels in the text: 4\n",
      "Total no of vowels in the text: 5\n"
     ]
    }
   ],
   "source": [
    "text=\"Engineering\"\n",
    "vowels=0\n",
    "for char in text.lower():\n",
    "    if char in \"aeiou\":\n",
    "        vowels += 1\n",
    "        print(\"Total no of vowels in the text:\", vowels)"
   ]
  },
  {
   "cell_type": "markdown",
   "id": "b51dd602",
   "metadata": {},
   "source": [
    "3. Create a multiplication table (e.g., for 7)"
   ]
  },
  {
   "cell_type": "code",
   "execution_count": 169,
   "id": "6a6a68e2",
   "metadata": {},
   "outputs": [
    {
     "name": "stdout",
     "output_type": "stream",
     "text": [
      "2\n",
      "4\n",
      "6\n",
      "8\n",
      "10\n",
      "12\n",
      "14\n",
      "16\n",
      "18\n",
      "20\n"
     ]
    }
   ],
   "source": [
    "num=2\n",
    "for i in range(1, 11):\n",
    "    print(i*num)"
   ]
  },
  {
   "cell_type": "markdown",
   "id": "51f2bbdf",
   "metadata": {},
   "source": [
    "Loop through Dictionary"
   ]
  },
  {
   "cell_type": "code",
   "execution_count": 170,
   "id": "21878949",
   "metadata": {},
   "outputs": [
    {
     "name": "stdout",
     "output_type": "stream",
     "text": [
      "Ajimullah is 24 years old.\n",
      "Amit is 22 years old.\n",
      "Ankit is 23 years old.\n"
     ]
    }
   ],
   "source": [
    "students={\"Ajimullah\": 24, \"Amit\": 22, \"Ankit\": 23}\n",
    "for student,age in students.items():\n",
    "    print(student, \"is\", age, \"years old.\")"
   ]
  },
  {
   "cell_type": "markdown",
   "id": "6fac4cd7",
   "metadata": {},
   "source": [
    "Sum all the Element in list"
   ]
  },
  {
   "cell_type": "code",
   "execution_count": 176,
   "id": "c379a46d",
   "metadata": {},
   "outputs": [
    {
     "name": "stdout",
     "output_type": "stream",
     "text": [
      "The sum of all elements in the list is: 15\n"
     ]
    }
   ],
   "source": [
    "nums=[1, 2, 3, 4, 5]\n",
    "total_sum=0\n",
    "for num in nums:\n",
    "    total_sum += num\n",
    "print(\"The sum of all elements in the list is:\", total_sum)"
   ]
  },
  {
   "cell_type": "markdown",
   "id": "e2bc7643",
   "metadata": {},
   "source": [
    "While Loop\n"
   ]
  },
  {
   "cell_type": "code",
   "execution_count": 177,
   "id": "d760fbab",
   "metadata": {},
   "outputs": [
    {
     "name": "stdout",
     "output_type": "stream",
     "text": [
      "Incorrect password, try again.\n",
      "Incorrect password, try again.\n",
      "Access granted!\n"
     ]
    }
   ],
   "source": [
    "password=\"\"\n",
    "while password != \"Abcd123\":\n",
    "    password = input(\"Enter the password: \")\n",
    "    if password == \"Abcd123\":\n",
    "        print(\"Access granted!\")\n",
    "    else:\n",
    "        print(\"Incorrect password, try again.\")"
   ]
  },
  {
   "cell_type": "markdown",
   "id": "5b71f877",
   "metadata": {},
   "source": [
    "Q7. Countdown timer from 10 to 1."
   ]
  },
  {
   "cell_type": "code",
   "execution_count": 178,
   "id": "e823aa8b",
   "metadata": {},
   "outputs": [
    {
     "name": "stdout",
     "output_type": "stream",
     "text": [
      "10\n",
      "Countdown complete!\n",
      "9\n",
      "Countdown complete!\n",
      "8\n",
      "Countdown complete!\n",
      "7\n",
      "Countdown complete!\n",
      "6\n",
      "Countdown complete!\n",
      "5\n",
      "Countdown complete!\n",
      "4\n",
      "Countdown complete!\n",
      "3\n",
      "Countdown complete!\n",
      "2\n",
      "Countdown complete!\n",
      "1\n",
      "Countdown complete!\n",
      "Countdown timer from 10 to 1 completed.\n"
     ]
    }
   ],
   "source": [
    "i=10\n",
    "while i > 0:\n",
    "    print(i)\n",
    "    i -= 1\n",
    "    print(\"Countdown complete!\")\n",
    "print(\"Countdown timer from 10 to 1 completed.\")"
   ]
  },
  {
   "cell_type": "markdown",
   "id": "7ba6e9c8",
   "metadata": {},
   "source": [
    "Q. Find the first number divisible by both 3 and 7"
   ]
  },
  {
   "cell_type": "code",
   "execution_count": 179,
   "id": "dd0fefef",
   "metadata": {},
   "outputs": [
    {
     "name": "stdout",
     "output_type": "stream",
     "text": [
      "First number divisible by 3 and 7 is: 2\n",
      "First number divisible by 3 and 7 is: 3\n",
      "First number divisible by 3 and 7 is: 4\n",
      "First number divisible by 3 and 7 is: 5\n",
      "First number divisible by 3 and 7 is: 6\n",
      "First number divisible by 3 and 7 is: 7\n",
      "First number divisible by 3 and 7 is: 8\n",
      "First number divisible by 3 and 7 is: 9\n",
      "First number divisible by 3 and 7 is: 10\n",
      "First number divisible by 3 and 7 is: 11\n",
      "First number divisible by 3 and 7 is: 12\n",
      "First number divisible by 3 and 7 is: 13\n",
      "First number divisible by 3 and 7 is: 14\n",
      "First number divisible by 3 and 7 is: 15\n",
      "First number divisible by 3 and 7 is: 16\n",
      "First number divisible by 3 and 7 is: 17\n",
      "First number divisible by 3 and 7 is: 18\n",
      "First number divisible by 3 and 7 is: 19\n",
      "First number divisible by 3 and 7 is: 20\n",
      "First number divisible by 3 and 7 is: 21\n"
     ]
    }
   ],
   "source": [
    "num=1\n",
    "while True:\n",
    "    if num%3==0 and num % 7==0:\n",
    "        break\n",
    "    num+=1\n",
    "    print(\"First number divisible by 3 and 7 is:\",num)"
   ]
  },
  {
   "cell_type": "markdown",
   "id": "68d00d44",
   "metadata": {},
   "source": [
    " Q.Simulate login with 3 attempts"
   ]
  },
  {
   "cell_type": "code",
   "execution_count": 180,
   "id": "a45cd101",
   "metadata": {},
   "outputs": [
    {
     "name": "stdout",
     "output_type": "stream",
     "text": [
      "Wrong password\n",
      "Login successful!\n"
     ]
    }
   ],
   "source": [
    "correct = \"python123\"\n",
    "attempt = 0\n",
    "\n",
    "while attempt < 3:\n",
    "    pwd = input(\"Enter password: \")\n",
    "    if pwd == correct:\n",
    "        print(\"Login successful!\")\n",
    "        break\n",
    "    else:\n",
    "        print(\"Wrong password\")\n",
    "        attempt += 1\n",
    "else:\n",
    "    print(\"Too many attempts! Locked.\")\n"
   ]
  },
  {
   "cell_type": "markdown",
   "id": "53ea0c67",
   "metadata": {},
   "source": [
    "Break and Continue Statement"
   ]
  },
  {
   "cell_type": "code",
   "execution_count": 182,
   "id": "5f4a5eb8",
   "metadata": {},
   "outputs": [
    {
     "name": "stdout",
     "output_type": "stream",
     "text": [
      "Drinking cup of chai number: 1\n",
      "Finished cup of chai number: 1\n",
      "Drinking cup of chai number: 2\n",
      "Finished cup of chai number: 2\n",
      "Drinking cup of chai number: 3\n",
      "Taking a break after cup 3.\n"
     ]
    }
   ],
   "source": [
    "cup_of_chai=0\n",
    "while cup_of_chai < 5:\n",
    "    cup_of_chai += 1\n",
    "    print(\"Drinking cup of chai number:\", cup_of_chai)\n",
    "    if cup_of_chai == 3:\n",
    "        print(\"Taking a break after cup 3.\")\n",
    "        break\n",
    "    print(\"Finished cup of chai number:\", cup_of_chai)"
   ]
  },
  {
   "cell_type": "markdown",
   "id": "ca73e2b3",
   "metadata": {},
   "source": [
    "Range Function in a loop"
   ]
  },
  {
   "cell_type": "code",
   "execution_count": 183,
   "id": "24ee9c62",
   "metadata": {},
   "outputs": [
    {
     "name": "stdout",
     "output_type": "stream",
     "text": [
      "cup of chai is served: 1\n",
      "cup of chai is served: 2\n",
      "cup of chai is served: 3\n",
      "cup of chai is served: 4\n",
      "cup of chai is served: 5\n"
     ]
    }
   ],
   "source": [
    "#Serving 5 cup of chai\n",
    "for cup in range(1,6):\n",
    "    print(\"cup of chai is served:\", cup)"
   ]
  },
  {
   "cell_type": "markdown",
   "id": "3a27576e",
   "metadata": {},
   "source": [
    "Infinite Loops"
   ]
  },
  {
   "cell_type": "code",
   "execution_count": 185,
   "id": "c2193069",
   "metadata": {},
   "outputs": [
    {
     "name": "stdout",
     "output_type": "stream",
     "text": [
      "This is an infinite loop. Press Ctrl+C to stop it.\n"
     ]
    }
   ],
   "source": [
    "while True:\n",
    "    print(\"This is an infinite loop. Press Ctrl+C to stop it.\")\n",
    "    break# You can add a break condition here if needed"
   ]
  },
  {
   "cell_type": "code",
   "execution_count": 186,
   "id": "77003785",
   "metadata": {},
   "outputs": [
    {
     "name": "stdout",
     "output_type": "stream",
     "text": [
      "This is an infinite loop. Press Ctrl+C to stop it.\n",
      "This is an infinite loop. Press Ctrl+C to stop it.\n",
      "This is an infinite loop. Press Ctrl+C to stop it.\n",
      "This is an infinite loop. Press Ctrl+C to stop it.\n",
      "This is an infinite loop. Press Ctrl+C to stop it.\n"
     ]
    }
   ],
   "source": [
    "count = 0\n",
    "while True:\n",
    "    print(\"This is an infinite loop. Press Ctrl+C to stop it.\")\n",
    "    count += 1\n",
    "    if count >= 5:  # Example condition to break the loop after 5 iterations\n",
    "        break"
   ]
  },
  {
   "cell_type": "markdown",
   "id": "51395021",
   "metadata": {},
   "source": [
    "Pass Statement"
   ]
  },
  {
   "cell_type": "code",
   "execution_count": null,
   "id": "1470d584",
   "metadata": {},
   "outputs": [],
   "source": [
    "count = 0\n",
    "while True:\n",
    "    print(\"This is an infinite loop. Press Ctrl+C to stop it.\")\n",
    "    count += 1\n",
    "    if count >= 5:  # Example condition to break the loop after 5 iterations\n",
    "        pass"
   ]
  },
  {
   "cell_type": "code",
   "execution_count": null,
   "id": "519f1c68",
   "metadata": {},
   "outputs": [],
   "source": [
    "count = 0\n",
    "while True:\n",
    "    print(\"This is an infinite loop. Press Ctrl+C to stop it.\")\n",
    "    count += 1\n",
    "    if count >= 5:  # Example condition to break the loop after 5 iterations\n",
    "        continue\n",
    "    print(\"This is an infinite loop. Press Ctrl+C to stop it.\")"
   ]
  },
  {
   "cell_type": "markdown",
   "id": "6ac6f909",
   "metadata": {},
   "source": [
    "# Most important try,except and finally statements"
   ]
  },
  {
   "cell_type": "markdown",
   "id": "640d3e06",
   "metadata": {},
   "source": [
    "these are used to handle exceptions(error) thaat may occur during code execution"
   ]
  },
  {
   "cell_type": "markdown",
   "id": "44180e85",
   "metadata": {},
   "source": [
    "try block contain code that might raise an exception."
   ]
  },
  {
   "cell_type": "markdown",
   "id": "d38be138",
   "metadata": {},
   "source": [
    "except handles the exception."
   ]
  },
  {
   "cell_type": "markdown",
   "id": "78bc8c0b",
   "metadata": {},
   "source": [
    "Example:"
   ]
  },
  {
   "cell_type": "code",
   "execution_count": 193,
   "id": "b78cd98a",
   "metadata": {},
   "outputs": [
    {
     "name": "stdout",
     "output_type": "stream",
     "text": [
      "The result is: 0.0\n",
      "This block always executes, regardless of whether an exception occurred or not.\n"
     ]
    }
   ],
   "source": [
    "number1= 10\n",
    "number2= 0/number1\n",
    "try:\n",
    "    print(\"The result is:\", number2)\n",
    "except ZeroDivisionError:\n",
    "    print(\"An error occurred: Division by zero is not allowed.\")\n",
    "finally:\n",
    "        print(\"This block always executes, regardless of whether an exception occurred or not.\")"
   ]
  },
  {
   "cell_type": "markdown",
   "id": "29d3452e",
   "metadata": {},
   "source": [
    "# Function in Python"
   ]
  },
  {
   "cell_type": "markdown",
   "id": "e0156436",
   "metadata": {},
   "source": [
    "It is a block of code that is reused when it is required, then ustilise them."
   ]
  },
  {
   "cell_type": "markdown",
   "id": "a13f12d5",
   "metadata": {},
   "source": [
    "### built-in Function"
   ]
  },
  {
   "cell_type": "code",
   "execution_count": 194,
   "id": "f56befd9",
   "metadata": {},
   "outputs": [
    {
     "name": "stdout",
     "output_type": "stream",
     "text": [
      "100\n",
      "0.18\n",
      "100\n",
      "100\n"
     ]
    }
   ],
   "source": [
    "price=100\n",
    "gst=0.18\n",
    "shipping=10\n",
    "print(max(price, gst, shipping))  # Example of using max function\n",
    "print(min(price, gst, shipping))  # Example of using min function\n",
    "print(abs(price))  # Example of using abs function\n",
    "print(round(price, 1))  # Example of using round function"
   ]
  },
  {
   "cell_type": "code",
   "execution_count": null,
   "id": "4b1ae204",
   "metadata": {},
   "outputs": [],
   "source": [
    "price6 = [100, 200, 3, 400, 600]\n",
    "mean_value =sum(price) / len(price)\n",
    "print(max(price6))       # Example of using max function\n",
    "print(min(price6))       # Example of using min function\n",
    "print(mean_value6)       # Example of using mean function\n"
   ]
  },
  {
   "cell_type": "markdown",
   "id": "5317315b",
   "metadata": {},
   "source": [
    "## User define function"
   ]
  },
  {
   "cell_type": "markdown",
   "id": "0efa9d32",
   "metadata": {},
   "source": [
    "In pyhton , you define a function using the def keyword followed by the function name,parentheses for input parameters and a colon:\n",
    "the function body is defined. "
   ]
  },
  {
   "cell_type": "markdown",
   "id": "184106e7",
   "metadata": {},
   "source": [
    "def function_name(parameters):\n",
    "\"\"\"\n",
    "optional describe the function\n",
    "\"\"\"\n",
    "return result"
   ]
  },
  {
   "cell_type": "code",
   "execution_count": null,
   "id": "b5ebcecd",
   "metadata": {},
   "outputs": [],
   "source": [
    "def greet(name):\n",
    "    \"\"\"\n",
    "    This function greets the person with the given name.\n",
    "    \"\"\"\n",
    "    print(\"Hello, \" + name + \"aslamualaikum\")  # Example of using print function\n",
    "    "
   ]
  },
  {
   "cell_type": "code",
   "execution_count": 213,
   "id": "e31418b2",
   "metadata": {},
   "outputs": [
    {
     "name": "stdout",
     "output_type": "stream",
     "text": [
      "Hello, vilalaslamualaikum\n"
     ]
    },
    {
     "data": {
      "text/plain": [
       "'Hello, vilal!'"
      ]
     },
     "execution_count": 213,
     "metadata": {},
     "output_type": "execute_result"
    }
   ],
   "source": [
    "greet(\"vilal\")  # Calling the function with a name"
   ]
  },
  {
   "cell_type": "code",
   "execution_count": 222,
   "id": "e11acace",
   "metadata": {},
   "outputs": [
    {
     "name": "stdout",
     "output_type": "stream",
     "text": [
      "460.0\n"
     ]
    }
   ],
   "source": [
    "\n",
    "\n",
    "def mean_of_list(numbers):\n",
    "    if len(numbers) == 0:\n",
    "        return 0\n",
    "    return sum(numbers) / len(numbers)\n",
    "\n",
    "price = [200, 300, 400, 600, 800]\n",
    "print(mean_of_list(price))\n"
   ]
  },
  {
   "cell_type": "code",
   "execution_count": 223,
   "id": "f18f19b0",
   "metadata": {},
   "outputs": [],
   "source": [
    "def add_numbers(a, b,c):\n",
    "    \"\"\"\n",
    "    This function adds two numbers and returns the result.\n",
    "    \"\"\"\n",
    "    return a + b+c"
   ]
  },
  {
   "cell_type": "code",
   "execution_count": 224,
   "id": "d6e40926",
   "metadata": {},
   "outputs": [
    {
     "data": {
      "text/plain": [
       "30"
      ]
     },
     "execution_count": 224,
     "metadata": {},
     "output_type": "execute_result"
    }
   ],
   "source": [
    "add_numbers(5, 10, 15)  # Example of calling the function with three arguments"
   ]
  },
  {
   "cell_type": "code",
   "execution_count": 239,
   "id": "0812c494",
   "metadata": {},
   "outputs": [],
   "source": [
    "def introduce(name, age):\n",
    "    \"\"\"\n",
    "    This function introduces a person with their name and age.\n",
    "    \"\"\"\n",
    "    print(\"hello, my name is \" + name + \" and I am \" + str(age) + \"years old.\")"
   ]
  },
  {
   "cell_type": "code",
   "execution_count": 240,
   "id": "a6bcf5e7",
   "metadata": {},
   "outputs": [
    {
     "name": "stdout",
     "output_type": "stream",
     "text": [
      "hello, my name is Ajimullah and I am 24years old.\n"
     ]
    }
   ],
   "source": [
    "introduce(\"Ajimullah\", 24)  # Example of calling the function with name and age"
   ]
  },
  {
   "cell_type": "markdown",
   "id": "06111488",
   "metadata": {},
   "source": [
    "## Function without parameters"
   ]
  },
  {
   "cell_type": "code",
   "execution_count": 241,
   "id": "82091483",
   "metadata": {},
   "outputs": [],
   "source": [
    "def say_hello():\n",
    "    \"\"\"\n",
    "    This function prints a greeting message.\n",
    "    \"\"\"\n",
    "    print(\"Hello, Developer!\")"
   ]
  },
  {
   "cell_type": "code",
   "execution_count": 242,
   "id": "9f60f651",
   "metadata": {},
   "outputs": [
    {
     "name": "stdout",
     "output_type": "stream",
     "text": [
      "Hello, Developer!\n"
     ]
    }
   ],
   "source": [
    "say_hello()"
   ]
  },
  {
   "cell_type": "code",
   "execution_count": 3,
   "id": "21765116",
   "metadata": {},
   "outputs": [],
   "source": [
    "def say_developer(name):\n",
    "    \"\"\"\n",
    "    This function prints a message about being a developer.\n",
    "    \"\"\"\n",
    "    print(\"Hello, I am a developer! and my name is \" + name +\"and I am a university student from gkp.  \" )"
   ]
  },
  {
   "cell_type": "code",
   "execution_count": 4,
   "id": "4d027298",
   "metadata": {},
   "outputs": [
    {
     "name": "stdout",
     "output_type": "stream",
     "text": [
      "Hello, I am a developer! and my name is Ajimullah Ansariand I am a university student from gkp.  \n"
     ]
    }
   ],
   "source": [
    "say_developer(\"Ajimullah Ansari\")  # Example of calling the function with a name"
   ]
  },
  {
   "cell_type": "markdown",
   "id": "047740b2",
   "metadata": {},
   "source": [
    "## Lambda Function"
   ]
  },
  {
   "cell_type": "markdown",
   "id": "583b98e3",
   "metadata": {},
   "source": [
    "syntax-->>>>\n",
    "Lambda arguments: expression"
   ]
  },
  {
   "cell_type": "code",
   "execution_count": null,
   "id": "62981253",
   "metadata": {},
   "outputs": [
    {
     "name": "stdout",
     "output_type": "stream",
     "text": [
      "15\n"
     ]
    }
   ],
   "source": [
    "def add(x,y):\n",
    "    return x + y\n",
    "add_lambda = lambda x, y: x + y  # Example of a lambda function\n",
    "print(add_lambda(5, 10))  # Calling the lambda function with two arguments"
   ]
  },
  {
   "cell_type": "markdown",
   "id": "420f087f",
   "metadata": {},
   "source": [
    "## User Input "
   ]
  },
  {
   "cell_type": "code",
   "execution_count": null,
   "id": "1a78b943",
   "metadata": {},
   "outputs": [
    {
     "name": "stdout",
     "output_type": "stream",
     "text": [
      "Your age is: 66\n"
     ]
    }
   ],
   "source": [
    "age=input(\"Enter your age: \")\n",
    "print(\"Your age is:\", age)"
   ]
  },
  {
   "cell_type": "code",
   "execution_count": null,
   "id": "26fd075a",
   "metadata": {},
   "outputs": [],
   "source": [
    "cell_no=input(\"Enter your cell number: \")\n",
    "print(\"Your cell number is:\", cell_no)"
   ]
  },
  {
   "cell_type": "code",
   "execution_count": 15,
   "id": "1dd7d93c",
   "metadata": {},
   "outputs": [
    {
     "name": "stdout",
     "output_type": "stream",
     "text": [
      "The sum of the three numbers is: 465.0\n",
      "The final result is: 465.0\n"
     ]
    }
   ],
   "source": [
    "num1=float(input(\"Enter first number: \"))\n",
    "num2=float(input(\"Enter second number: \"))  \n",
    "num3=float(input(\"Enter third number: \"))\n",
    "print(\"The sum of the three numbers is:\", num1 + num2 + num3)\n",
    "print(\"The final result is:\", num1 + num2 + num3)"
   ]
  },
  {
   "cell_type": "code",
   "execution_count": 18,
   "id": "14cde099",
   "metadata": {},
   "outputs": [
    {
     "name": "stdout",
     "output_type": "stream",
     "text": [
      "Welcome to the world, Aslamualaikum Dear \n"
     ]
    }
   ],
   "source": [
    "nationality=input(\"Enter your nationality: \")\n",
    "if nationality == \"India\":\n",
    "   print(\"Wellcome to India, Aslamualaikum Dear \")\n",
    "else:\n",
    "    print(\"Welcome to the world, Aslamualaikum Dear \")"
   ]
  }
 ],
 "metadata": {
  "kernelspec": {
   "display_name": "base",
   "language": "python",
   "name": "python3"
  },
  "language_info": {
   "codemirror_mode": {
    "name": "ipython",
    "version": 3
   },
   "file_extension": ".py",
   "mimetype": "text/x-python",
   "name": "python",
   "nbconvert_exporter": "python",
   "pygments_lexer": "ipython3",
   "version": "3.13.5"
  }
 },
 "nbformat": 4,
 "nbformat_minor": 5
}
